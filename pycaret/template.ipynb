{
 "cells": [
  {
   "cell_type": "markdown",
   "metadata": {},
   "source": [
    "# Pycaret\n",
    "## ¿Qué es Pycaret?\n",
    "Librería de Python que nos brinda herramientas low code, para desarrollar desde el procesamiento de los datos, hasta el despliegue de un modelo en cuestión de minutos, y unas pocas lineas de código."
   ]
  },
  {
   "cell_type": "code",
   "execution_count": null,
   "metadata": {},
   "outputs": [],
   "source": [
    "# definir el entorno virtual\n",
    "!python3 -m venv env\n",
    "\n",
    "# activar el entorno virtual\n",
    "!source env/bin/activate\n",
    "\n",
    "# instalar las dependencias de pycaret\n",
    "!pip install pycaret[full]"
   ]
  },
  {
   "cell_type": "markdown",
   "metadata": {},
   "source": [
    "> 💡 **Antes de comenzar:**\n",
    ">\n",
    "> - PyCaret tiene dos enfoques, el functional API y el OOP API. En este taller nos vamos a enfocar en el functional API, ya que esta nos permite un desarrollo rápido y sencillo. En proyectos de mayor rigor, que necesiten mayor modularidad y encapsulamiento, puede ser idóneo el OOP API.\n"
   ]
  },
  {
   "cell_type": "markdown",
   "metadata": {},
   "source": [
    "## Setup\n",
    "Esta función incializa el ambiente y crea los pipelines de transformación, todo según los parámetros pasados a una función de PyCaret.\n",
    "\n",
    "Algúnos de los parámetros que podemos pasar son:\n",
    "- Session_id : Análogo al random state, reproduciibilidad\n",
    "- categorical_features : permite especificar qué features del dataset son catgóricos.\n",
    "- normalize : Normalizar según el `normalize_method` (otro parametro)\n",
    "- Transformation: Transforma los datos según el `transformation method` (también hay target transform)\n",
    "- Polynomial_features : bool, Polynomial_degree, default 2\n",
    "- train_size : proporcion del dataset a usar en train y el resto en validación\n",
    "- fold_strategy : string o sklearn cv generator object : permite escoger el método de validación cruzada a usar en el entrenamiento.\n",
    "- n_jobs : para las funciones que soportan procesamiento en paralelo.\n",
    "- use_gpu : suponga que usted teine una 4090 y la quiere quemar con un modelo que sepa predecir el area de un cuadrado basados en su largo y ancho, bueno, aquí usted pone `True`\n",
    "- Log Experiment (sorpresa para mas adelante)"
   ]
  },
  {
   "cell_type": "code",
   "execution_count": null,
   "metadata": {},
   "outputs": [],
   "source": [
    "# Importar las librerias de pycaret\n",
    "\n",
    "# Cargar los datos\n",
    "\n",
    "# Inicializar el entorno de pycaret\t\n"
   ]
  },
  {
   "cell_type": "markdown",
   "metadata": {},
   "source": [
    "**Notemos que:**\n",
    "\n",
    "- Tenemos las formas del dataset antes y después del preprocesamiento\n",
    "- Tenemos la cantidad de variables (numéticas)\n",
    "- Tenemos la imputación para cada tipo de dato, numerico y categórico\n",
    "- Generador de folds para cross validation\n",
    "- Y tenemos unas cosas ahí que dicen Experiment, pero eso lo veremos mas adelante. 🪄"
   ]
  },
  {
   "cell_type": "code",
   "execution_count": null,
   "metadata": {},
   "outputs": [],
   "source": [
    "# Visualizar los datos de entrenamiento preprocesados\n"
   ]
  },
  {
   "cell_type": "markdown",
   "metadata": {},
   "source": [
    "**Además:** podemos ver el comportamiento de estas funciones si implementamos los datos categóricos."
   ]
  },
  {
   "cell_type": "markdown",
   "metadata": {},
   "source": [
    "> ⚠️ **Ordinal Features** permite especificar cuando una variable no solo es categórica sino también ordinal.  \n",
    "> **Ejemplo**: `ordinal_features = {'salary' : ['low', 'medium', 'high']}`\n"
   ]
  },
  {
   "cell_type": "code",
   "execution_count": null,
   "metadata": {},
   "outputs": [],
   "source": [
    "# Definir setup con variables categóricas\n"
   ]
  },
  {
   "cell_type": "markdown",
   "metadata": {},
   "source": [
    "**Ahora no solo podemos ver lo anterior, sino también cosas como:**\n",
    "\n",
    "- Cómo cambió la forma del dataset de original a transformed\n",
    "- Cantidad de numéricas y de categóricas\n",
    "- Tipo de imputación para cada variable\n",
    "- Cantidad de polynomial features\n",
    "- Tipo de normalización"
   ]
  },
  {
   "cell_type": "code",
   "execution_count": null,
   "metadata": {},
   "outputs": [],
   "source": [
    "# visualizar los datos de entrenamiento preprocesados\n"
   ]
  },
  {
   "cell_type": "markdown",
   "metadata": {},
   "source": [
    "Ahora, exportemos el modelo ..."
   ]
  },
  {
   "cell_type": "code",
   "execution_count": null,
   "metadata": {},
   "outputs": [],
   "source": [
    "# Guardar el pipeline\n"
   ]
  },
  {
   "cell_type": "code",
   "execution_count": null,
   "metadata": {},
   "outputs": [],
   "source": [
    "# Ahora usemos el pipeline pipe en los datos x, y sin transformar\n",
    "\n",
    "# Definir X, y\n",
    "\n",
    "# Ajustar el pipeline\n",
    "\n",
    "# Ver el resultado\n"
   ]
  },
  {
   "cell_type": "code",
   "execution_count": null,
   "metadata": {},
   "outputs": [],
   "source": [
    "# Importar la libreria joblib\n",
    "\n",
    "# Exportar el pipeline\n"
   ]
  },
  {
   "cell_type": "markdown",
   "metadata": {},
   "source": [
    "## Train y optimize\n",
    "Volviendo al problema inicial, pycaret nos permite realizar la comparación de varios modelos de machine learning, y seleccionar el mejor modelo según una métrica de evaluación."
   ]
  },
  {
   "cell_type": "code",
   "execution_count": null,
   "metadata": {},
   "outputs": [],
   "source": [
    "# Obtener los mejores tres modelos\n"
   ]
  },
  {
   "cell_type": "code",
   "execution_count": null,
   "metadata": {},
   "outputs": [],
   "source": [
    "# Ver el contenido de la variable best\n"
   ]
  },
  {
   "cell_type": "markdown",
   "metadata": {},
   "source": [
    "> ⏰ **Notemos que esto podría quedarse un buen rato en este proceso**  \n",
    "> ¿Cómo hacemos que sea exclusivamente para los modelos que no tienen un tiempo de entrenamiento muy alto?\n",
    ">\n",
    "> **Turbo:** solo entrena los modelos que no suelen tomar mucho tiempo en entrenarse.  \n",
    "> **budget_time:** tiempo límite para el entrenamiento, si se pone, la función parará en el punto que pase el tiempo.\n"
   ]
  },
  {
   "cell_type": "markdown",
   "metadata": {},
   "source": [
    "Ahora ¿Y si quisieramos entrenar un modelo en especifico?"
   ]
  },
  {
   "cell_type": "code",
   "execution_count": null,
   "metadata": {},
   "outputs": [],
   "source": [
    "# Crear modelo de random forest\n"
   ]
  },
  {
   "cell_type": "markdown",
   "metadata": {},
   "source": [
    "**Y luego de tener estos modelos, con estas métricas ¿Cómo los podríamos optimizar?**\n",
    "\n",
    "por ejemplo, supongamos que nuestro problema requiere de optimizar la métrica de f1"
   ]
  },
  {
   "cell_type": "code",
   "execution_count": null,
   "metadata": {},
   "outputs": [],
   "source": [
    "# Tunear el modelo de random forest\n"
   ]
  },
  {
   "cell_type": "markdown",
   "metadata": {},
   "source": [
    "Además se pueden usar librerías adicionales para aprovechar sus algoritmos de búsqueda"
   ]
  },
  {
   "cell_type": "code",
   "execution_count": null,
   "metadata": {},
   "outputs": [],
   "source": [
    "# tunear el modelo con optuna\n"
   ]
  },
  {
   "cell_type": "markdown",
   "metadata": {},
   "source": [
    "Por último, para finalizar el entrenamiento se usa el finalize_model, lo cual reentrenará el modelo tuneado (con hiperparámetros óptimos) con el conjunto de datos completo."
   ]
  },
  {
   "cell_type": "code",
   "execution_count": null,
   "metadata": {},
   "outputs": [],
   "source": [
    "# finalizar el modelo"
   ]
  },
  {
   "cell_type": "markdown",
   "metadata": {},
   "source": [
    "Exportemos el modelo con el formato 'final_model_Y_m_d'."
   ]
  },
  {
   "cell_type": "code",
   "execution_count": null,
   "metadata": {},
   "outputs": [],
   "source": [
    "# Definir el guardado del experimento\n",
    "\n",
    "# Importar la libreria os y datetime\n",
    "\n",
    "# Crear la ruta al directorio \"models\" en el directorio padre\n",
    "\n",
    "# Generar el nombre del archivo con la fecha actual\n",
    "# Ruta completa para guardar el archivo\n",
    "\n",
    "# Guardar el modelo en la ruta especificada\n"
   ]
  },
  {
   "cell_type": "markdown",
   "metadata": {},
   "source": [
    "Con esto, logramos que el modelo quede guardado en la carpeta models, con la fecha en el que fue entrenado."
   ]
  },
  {
   "cell_type": "markdown",
   "metadata": {},
   "source": [
    "## Analyze\n",
    "Para ver todas las métricas sobre el modelo, existen diversos métodos gráficos, los cuales nos ofrece pycaret por medio de la función plot_model.\n",
    "A esta se le pueden pasar distintos parámetros, como los siguientes:\n",
    "- plot :\n",
    "    - 'confusion_matrix'\n",
    "    - 'feature'\n",
    "\n",
    "Veamos por ejemplo la matriz de confusión del modelo entrenado."
   ]
  },
  {
   "cell_type": "code",
   "execution_count": null,
   "metadata": {},
   "outputs": [],
   "source": [
    "# Uso del parametro plot = confusion_matrix\n"
   ]
  },
  {
   "cell_type": "markdown",
   "metadata": {},
   "source": [
    "Pycaret También nos permite analizar la importancia de las variables en el modelo, por medio del parametro 'feature'."
   ]
  },
  {
   "cell_type": "code",
   "execution_count": null,
   "metadata": {},
   "outputs": [],
   "source": [
    "# Uso del parametro plot = feature\n"
   ]
  },
  {
   "cell_type": "markdown",
   "metadata": {},
   "source": [
    "Además de esta función, existe la función interpret_model, la cual nos permite ver la importancia de las variables en el modelo, pero de una forma más detallada, para cada registro."
   ]
  },
  {
   "cell_type": "code",
   "execution_count": null,
   "metadata": {},
   "outputs": [],
   "source": [
    "# llamado interpret model\n"
   ]
  },
  {
   "cell_type": "markdown",
   "metadata": {},
   "source": [
    "Finalmente, todas estas funciones se pueden visualizar en un solo paso, con la función evaluate_model."
   ]
  },
  {
   "cell_type": "code",
   "execution_count": null,
   "metadata": {},
   "outputs": [],
   "source": [
    "# llamada a la función evaluate_model\n"
   ]
  }
 ],
 "metadata": {
  "kernelspec": {
   "display_name": "hackday2",
   "language": "python",
   "name": "python3"
  },
  "language_info": {
   "codemirror_mode": {
    "name": "ipython",
    "version": 3
   },
   "file_extension": ".py",
   "mimetype": "text/x-python",
   "name": "python",
   "nbconvert_exporter": "python",
   "pygments_lexer": "ipython3",
   "version": "3.11.8"
  }
 },
 "nbformat": 4,
 "nbformat_minor": 2
}
