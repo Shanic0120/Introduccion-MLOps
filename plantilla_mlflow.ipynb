{
 "cells": [
  {
   "cell_type": "markdown",
   "metadata": {},
   "source": [
    "# MLFlow"
   ]
  },
  {
   "cell_type": "markdown",
   "metadata": {},
   "source": [
    "## Dependencias"
   ]
  },
  {
   "cell_type": "code",
   "execution_count": null,
   "metadata": {},
   "outputs": [],
   "source": [
    "import pandas as pd\n",
    "import mlflow\n",
    "from mlflow import log_metric, log_param, log_artifact"
   ]
  },
  {
   "cell_type": "markdown",
   "metadata": {},
   "source": [
    "## Experimento inicial"
   ]
  },
  {
   "cell_type": "code",
   "execution_count": null,
   "metadata": {},
   "outputs": [],
   "source": [
    "import mlflow\n",
    "from mlflow import log_metric, log_param, log_artifact\n",
    "\n",
    "# Crear un experimento\n",
    "\n",
    "\n",
    "# Establecer el experimento activo\n",
    "\n",
    "\n",
    "# Crear una nueva run\n",
    "with mlflow.start_run():\n",
    "    # Registrar un parámetro (parámetros del modelo, por ejemplo)\n",
    "    \n",
    "    \n",
    "    # Registrar una métrica (métricas del modelo, por ejemplo)\n",
    "    \n",
    "    \n",
    "    with open(\"output.txt\", \"w\") as f:\n",
    "        f.write(\"Hola, este es un artefacto.\")\n",
    "    \n",
    "    # Registrar un artefacto (puede ser un archivo como gráficos o modelos guardados)\n",
    "    \n",
    "\n",
    "print(\"Run registrado en MLFlow. Puedes revisar la UI para ver los detalles.\")\n",
    "mlflow.end_run()"
   ]
  },
  {
   "cell_type": "markdown",
   "metadata": {},
   "source": [
    "## Logging con un modelo"
   ]
  },
  {
   "cell_type": "code",
   "execution_count": null,
   "metadata": {},
   "outputs": [],
   "source": [
    "# Importar dependencias de Scikit-learn\n",
    "\n",
    "\n",
    "# Separar características y la variable objetivo (si es clasificación)\n",
    "\n",
    "\n",
    "# División de los datos\n",
    "\n",
    "\n",
    "# Asignar una tag al experimento\n",
    "\n",
    "\n",
    "# Iniciar un run en MLFlow\n",
    "with mlflow.start_run():\n",
    "    # Entrenamiento de un modelo\n",
    "    \n",
    "    \n",
    "    # Predicciones\n",
    "    \n",
    "    \n",
    "    # Calcular métricas\n",
    "    \n",
    "    \n",
    "    # Loguear métricas\n",
    "    \n",
    "    \n",
    "    \n",
    "    \n",
    "    # Loguear el modelo\n",
    "    \n",
    "    \n",
    "    print(f\"Modelo entrenado y registrado en MLFlow con métricas ...\")\n",
    "\n",
    "mlflow.end_run()"
   ]
  },
  {
   "cell_type": "markdown",
   "metadata": {},
   "source": [
    "## Iterar sobre diferentes hiperparámetros"
   ]
  },
  {
   "cell_type": "code",
   "execution_count": null,
   "metadata": {},
   "outputs": [],
   "source": [
    "# Lista de hiperparámetros\n",
    "param_list = \n",
    "\n",
    "# Iterar sobre la lista de hiperparámetros\n",
    "for params in param_list:\n",
    "    # Iniciar un run en MLFlow\n",
    "    with mlflow.start_run():\n",
    "        # Entrenamiento de un modelo con los hiperparámetros actuales\n",
    "        \n",
    "        \n",
    "        # Predicciones\n",
    "        \n",
    "\n",
    "        # Calcular métricas\n",
    "        \n",
    "\n",
    "        # Loguear hiperparámetros\n",
    "        for key, value in params.items():\n",
    "            \n",
    "\n",
    "        # Loguear métricas\n",
    "        \n",
    "\n",
    "        # Loguear el modelo\n",
    "        \n",
    "        \n",
    "        print(f\"Modelo entrenado y registrado en MLFlow con métricas y hiperparámetros...\")\n",
    "\n",
    "mlflow.end_run()"
   ]
  },
  {
   "cell_type": "markdown",
   "metadata": {},
   "source": [
    "## Usando Pycaret"
   ]
  },
  {
   "cell_type": "code",
   "execution_count": null,
   "metadata": {},
   "outputs": [],
   "source": [
    "# Importar dependencias de PyCaret\n",
    "\n",
    "# Iniciar setup en PyCaret\n",
    "\n",
    "\n",
    "# Comparar modelos\n"
   ]
  },
  {
   "cell_type": "code",
   "execution_count": null,
   "metadata": {},
   "outputs": [],
   "source": [
    "# Finalizar y guardar el mejor modelo\n"
   ]
  },
  {
   "cell_type": "code",
   "execution_count": null,
   "metadata": {},
   "outputs": [],
   "source": [
    "# Registrar el modelo final en MLFlow"
   ]
  }
 ],
 "metadata": {
  "kernelspec": {
   "display_name": "clase_pycaret",
   "language": "python",
   "name": "python3"
  },
  "language_info": {
   "name": "python",
   "version": "3.9.18"
  }
 },
 "nbformat": 4,
 "nbformat_minor": 2
}
